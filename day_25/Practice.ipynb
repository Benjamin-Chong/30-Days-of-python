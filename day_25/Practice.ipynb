{
 "cells": [
  {
   "cell_type": "code",
   "execution_count": 97,
   "id": "27997d93",
   "metadata": {},
   "outputs": [],
   "source": [
    "import pandas as pd #importing the necessary library and renaming it as pd for readability\n",
    "import numpy as np"
   ]
  },
  {
   "cell_type": "code",
   "execution_count": 98,
   "id": "4631b2d4",
   "metadata": {},
   "outputs": [
    {
     "name": "stdout",
     "output_type": "stream",
     "text": [
      "0    1\n",
      "1    2\n",
      "2    3\n",
      "3    4\n",
      "4    5\n",
      "dtype: int64\n"
     ]
    }
   ],
   "source": [
    "nums = [1, 2, 3, 4, 5] \n",
    "s = pd.Series(nums) #creates a series\n",
    "print(s)"
   ]
  },
  {
   "cell_type": "code",
   "execution_count": 99,
   "id": "bf6a6aef",
   "metadata": {},
   "outputs": [
    {
     "name": "stdout",
     "output_type": "stream",
     "text": [
      "1    1\n",
      "2    2\n",
      "3    3\n",
      "4    4\n",
      "5    5\n",
      "dtype: int64\n"
     ]
    }
   ],
   "source": [
    "nums = [1, 2, 3, 4, 5]\n",
    "s = pd.Series(nums, index=[1, 2, 3, 4, 5]) #creates a series with a custom index\n",
    "print(s)"
   ]
  },
  {
   "cell_type": "code",
   "execution_count": 100,
   "id": "c6ea5d29",
   "metadata": {},
   "outputs": [
    {
     "name": "stdout",
     "output_type": "stream",
     "text": [
      "name       Asabeneh\n",
      "country     Finland\n",
      "city       Helsinki\n",
      "dtype: object\n"
     ]
    }
   ],
   "source": [
    "dct = {'name': 'Asabeneh', 'country': 'Finland', 'city': 'Helsinki'}\n",
    "s = pd.Series(dct) #prints out the entire dictionary. instead of giving it an index it uses the key as the index\n",
    "print(s)"
   ]
  },
  {
   "cell_type": "code",
   "execution_count": 101,
   "id": "52a2b24e",
   "metadata": {},
   "outputs": [
    {
     "name": "stdout",
     "output_type": "stream",
     "text": [
      "1    10\n",
      "2    10\n",
      "3    10\n",
      "dtype: int64\n",
      "0     0.0\n",
      "1     5.0\n",
      "2    10.0\n",
      "3    15.0\n",
      "4    20.0\n",
      "dtype: float64\n"
     ]
    }
   ],
   "source": [
    "s = pd.Series(10, index=[1, 2, 3]) #creates a normal series with a custom index\n",
    "print(s)\n",
    "\n",
    "s = pd.Series(np.linspace(0, 20, 5)) #creates a series with equal amount between 0 and 20 with 5 items\n",
    "print(s)"
   ]
  },
  {
   "cell_type": "code",
   "execution_count": 102,
   "id": "53e8d771",
   "metadata": {},
   "outputs": [
    {
     "name": "stdout",
     "output_type": "stream",
     "text": [
      "      Names  Country       City\n",
      "0  Asabeneh  Finland   Helsinki\n",
      "1     David       UK     London\n",
      "2      John   Sweden  Stockholm\n"
     ]
    }
   ],
   "source": [
    "data = [\n",
    "    ['Asabeneh', 'Finland', 'Helsinki'],\n",
    "    ['David', 'UK', 'London'],\n",
    "    ['John', 'Sweden', 'Stockholm']\n",
    "]\n",
    "df = pd.DataFrame(data, columns=['Names', 'Country', 'City']) #creates the column names\n",
    "print(df)"
   ]
  },
  {
   "cell_type": "code",
   "execution_count": 103,
   "id": "aa2815bc",
   "metadata": {},
   "outputs": [
    {
     "name": "stdout",
     "output_type": "stream",
     "text": [
      "       Name  Country       City\n",
      "0  Asabeneh  Finland   Helsinki\n",
      "1     David       UK     London\n",
      "2      John   Sweden  Stockholm\n"
     ]
    }
   ],
   "source": [
    "data = {\n",
    "    'Name': ['Asabeneh', 'David', 'John'],\n",
    "    'Country': ['Finland', 'UK', 'Sweden'],\n",
    "    'City': ['Helsinki', 'London', 'Stockholm']\n",
    "}\n",
    "df = pd.DataFrame(data) #same output but different beacause this one utilizes a dict with key values and keys to avoid creating explicit names for the columns in the dataframe\n",
    "print(df)"
   ]
  },
  {
   "cell_type": "code",
   "execution_count": 104,
   "id": "198ecc74",
   "metadata": {},
   "outputs": [
    {
     "name": "stdout",
     "output_type": "stream",
     "text": [
      "  Gender     Height      Weight\n",
      "0   Male  73.847017  241.893563\n",
      "1   Male  68.781904  162.310473\n",
      "2   Male  74.110105  212.740856\n",
      "3   Male  71.730978  220.042470\n",
      "4   Male  69.881796  206.349801\n"
     ]
    }
   ],
   "source": [
    "df = pd.read_csv('weight-height.csv')\n",
    "print(df.head())  #prints the first 5 rows"
   ]
  },
  {
   "cell_type": "code",
   "execution_count": 105,
   "id": "4151fc02",
   "metadata": {},
   "outputs": [
    {
     "name": "stdout",
     "output_type": "stream",
     "text": [
      "      Gender     Height      Weight\n",
      "9995  Female  66.172652  136.777454\n",
      "9996  Female  67.067155  170.867906\n",
      "9997  Female  63.867992  128.475319\n",
      "9998  Female  69.034243  163.852461\n",
      "9999  Female  61.944246  113.649103\n",
      "(10000, 3)\n",
      "Index(['Gender', 'Height', 'Weight'], dtype='object')\n"
     ]
    }
   ],
   "source": [
    "print(df.tail())      #last 5 rows\n",
    "print(df.shape)       #rows, columns count\n",
    "print(df.columns)     #column names"
   ]
  },
  {
   "cell_type": "code",
   "execution_count": 106,
   "id": "c34767b5",
   "metadata": {},
   "outputs": [
    {
     "name": "stdout",
     "output_type": "stream",
     "text": [
      "0    73.847017\n",
      "1    68.781904\n",
      "2    74.110105\n",
      "3    71.730978\n",
      "4    69.881796\n",
      "Name: Height, dtype: float64\n",
      "0    241.893563\n",
      "1    162.310473\n",
      "2    212.740856\n",
      "3    220.042470\n",
      "4    206.349801\n",
      "Name: Weight, dtype: float64\n",
      "True\n"
     ]
    }
   ],
   "source": [
    "heights = df['Height']  #extract the 'Height' column as a Series\n",
    "weights = df['Weight']  #extract the 'Weight' column as a Series\n",
    "\n",
    "print(heights.head())  #check the first 5 heights\n",
    "print(weights.head())  #check the first 5 weights\n",
    "\n",
    "print(len(heights) == len(weights))  #confirm both columns have same length\n"
   ]
  },
  {
   "cell_type": "code",
   "execution_count": 107,
   "id": "e9e0b7ac",
   "metadata": {},
   "outputs": [
    {
     "name": "stdout",
     "output_type": "stream",
     "text": [
      "count    10000.000000\n",
      "mean        66.367560\n",
      "std          3.847528\n",
      "min         54.263133\n",
      "25%         63.505620\n",
      "50%         66.318070\n",
      "75%         69.174262\n",
      "max         78.998742\n",
      "Name: Height, dtype: float64\n",
      "count    10000.000000\n",
      "mean       161.440357\n",
      "std         32.108439\n",
      "min         64.700127\n",
      "25%        135.818051\n",
      "50%        161.212928\n",
      "75%        187.169525\n",
      "max        269.989699\n",
      "Name: Weight, dtype: float64\n",
      "             Height        Weight\n",
      "count  10000.000000  10000.000000\n",
      "mean      66.367560    161.440357\n",
      "std        3.847528     32.108439\n",
      "min       54.263133     64.700127\n",
      "25%       63.505620    135.818051\n",
      "50%       66.318070    161.212928\n",
      "75%       69.174262    187.169525\n",
      "max       78.998742    269.989699\n"
     ]
    }
   ],
   "source": [
    "print(heights.describe())  #summary stats of height\n",
    "print(weights.describe())  #summary stats of weight\n",
    "print(df.describe())       #summary stats of all columns"
   ]
  },
  {
   "cell_type": "code",
   "execution_count": 108,
   "id": "5b240d2e",
   "metadata": {},
   "outputs": [
    {
     "name": "stdout",
     "output_type": "stream",
     "text": [
      "       Name  Country       City\n",
      "0  Asabeneh  Finland   Helsinki\n",
      "1     David       UK     London\n",
      "2      John   Sweden  Stockholm\n"
     ]
    }
   ],
   "source": [
    "data = [\n",
    "    {\"Name\": \"Asabeneh\", \"Country\":\"Finland\",\"City\":\"Helsinki\"}, #a dictionary within a list\n",
    "    {\"Name\": \"David\", \"Country\":\"UK\",\"City\":\"London\"},\n",
    "    {\"Name\": \"John\", \"Country\":\"Sweden\",\"City\":\"Stockholm\"}]\n",
    "df = pd.DataFrame(data)\n",
    "print(df)"
   ]
  },
  {
   "cell_type": "code",
   "execution_count": 109,
   "id": "bf3e63b0",
   "metadata": {},
   "outputs": [
    {
     "name": "stdout",
     "output_type": "stream",
     "text": [
      "       Name  Country       City  Weight\n",
      "0  Asabeneh  Finland   Helsinki      74\n",
      "1     David       UK     London      78\n",
      "2      John   Sweden  Stockholm      69\n"
     ]
    }
   ],
   "source": [
    "weights = [74, 78, 69] #adds weight to the dataframe\n",
    "df['Weight'] = weights\n",
    "print(df)"
   ]
  },
  {
   "cell_type": "code",
   "execution_count": 110,
   "id": "658c02d3",
   "metadata": {},
   "outputs": [
    {
     "name": "stdout",
     "output_type": "stream",
     "text": [
      "       Name  Country       City  Weight  Height\n",
      "0  Asabeneh  Finland   Helsinki      74     173\n",
      "1     David       UK     London      78     175\n",
      "2      John   Sweden  Stockholm      69     169\n"
     ]
    }
   ],
   "source": [
    "df['Height'] = [173, 175, 169]  # adds height to the dataframe\n",
    "print(df)"
   ]
  },
  {
   "cell_type": "code",
   "execution_count": 111,
   "id": "4242d288",
   "metadata": {},
   "outputs": [
    {
     "name": "stdout",
     "output_type": "stream",
     "text": [
      "       Name  Country       City  Weight  Height\n",
      "0  Asabeneh  Finland   Helsinki      74    1.73\n",
      "1     David       UK     London      78    1.75\n",
      "2      John   Sweden  Stockholm      69    1.69\n"
     ]
    }
   ],
   "source": [
    "df['Height'] = df['Height'] * 0.01 #maping the heights by 0.01 to get meters\n",
    "print(df)"
   ]
  },
  {
   "cell_type": "code",
   "execution_count": 112,
   "id": "a33d2bde",
   "metadata": {},
   "outputs": [
    {
     "name": "stdout",
     "output_type": "stream",
     "text": [
      "       Name  Country       City  Weight  Height        BMI\n",
      "0  Asabeneh  Finland   Helsinki      74    1.73  24.725183\n",
      "1     David       UK     London      78    1.75  25.469388\n",
      "2      John   Sweden  Stockholm      69    1.69  24.158818\n"
     ]
    }
   ],
   "source": [
    "def calculate_bmi():\n",
    "    weights = df['Weight'] \n",
    "    heights = df['Height']\n",
    "    bmi = [] #creating a list to append to add to the dataframe\n",
    "    for w, h in zip(weights, heights): #zip pairs the weights and the height\n",
    "        b = w / (h * h) #equation\n",
    "        bmi.append(b)\n",
    "    return bmi\n",
    "df['BMI'] = calculate_bmi() \n",
    "print(df)\n"
   ]
  },
  {
   "cell_type": "code",
   "execution_count": 113,
   "id": "3966b5ec",
   "metadata": {},
   "outputs": [
    {
     "data": {
      "text/html": [
       "<div>\n",
       "<style scoped>\n",
       "    .dataframe tbody tr th:only-of-type {\n",
       "        vertical-align: middle;\n",
       "    }\n",
       "\n",
       "    .dataframe tbody tr th {\n",
       "        vertical-align: top;\n",
       "    }\n",
       "\n",
       "    .dataframe thead th {\n",
       "        text-align: right;\n",
       "    }\n",
       "</style>\n",
       "<table border=\"1\" class=\"dataframe\">\n",
       "  <thead>\n",
       "    <tr style=\"text-align: right;\">\n",
       "      <th></th>\n",
       "      <th>Name</th>\n",
       "      <th>Country</th>\n",
       "      <th>City</th>\n",
       "      <th>Weight</th>\n",
       "      <th>Height</th>\n",
       "      <th>BMI</th>\n",
       "      <th>Birth Year</th>\n",
       "      <th>Current Year</th>\n",
       "    </tr>\n",
       "  </thead>\n",
       "  <tbody>\n",
       "    <tr>\n",
       "      <th>0</th>\n",
       "      <td>Asabeneh</td>\n",
       "      <td>Finland</td>\n",
       "      <td>Helsinki</td>\n",
       "      <td>74</td>\n",
       "      <td>1.73</td>\n",
       "      <td>24.725183</td>\n",
       "      <td>1769</td>\n",
       "      <td>2020</td>\n",
       "    </tr>\n",
       "    <tr>\n",
       "      <th>1</th>\n",
       "      <td>David</td>\n",
       "      <td>UK</td>\n",
       "      <td>London</td>\n",
       "      <td>78</td>\n",
       "      <td>1.75</td>\n",
       "      <td>25.469388</td>\n",
       "      <td>1985</td>\n",
       "      <td>2020</td>\n",
       "    </tr>\n",
       "    <tr>\n",
       "      <th>2</th>\n",
       "      <td>John</td>\n",
       "      <td>Sweden</td>\n",
       "      <td>Stockholm</td>\n",
       "      <td>69</td>\n",
       "      <td>1.69</td>\n",
       "      <td>24.158818</td>\n",
       "      <td>1990</td>\n",
       "      <td>2020</td>\n",
       "    </tr>\n",
       "  </tbody>\n",
       "</table>\n",
       "</div>"
      ],
      "text/plain": [
       "       Name  Country       City  Weight  Height        BMI Birth Year  \\\n",
       "0  Asabeneh  Finland   Helsinki      74    1.73  24.725183       1769   \n",
       "1     David       UK     London      78    1.75  25.469388       1985   \n",
       "2      John   Sweden  Stockholm      69    1.69  24.158818       1990   \n",
       "\n",
       "   Current Year  \n",
       "0          2020  \n",
       "1          2020  \n",
       "2          2020  "
      ]
     },
     "execution_count": 113,
     "metadata": {},
     "output_type": "execute_result"
    }
   ],
   "source": [
    "df['Birth Year'] = ['1769', '1985', '1990'] \n",
    "df['Current Year'] = pd.Series(2020, index=df.index) #\n",
    "df"
   ]
  },
  {
   "cell_type": "code",
   "execution_count": 117,
   "id": "58b96e60",
   "metadata": {},
   "outputs": [
    {
     "name": "stdout",
     "output_type": "stream",
     "text": [
      "int64\n",
      "int64\n",
      "int64\n",
      "int64\n"
     ]
    }
   ],
   "source": [
    "print(df.Weight.dtype)\n",
    "print(df['Birth Year'].dtype)\n",
    "df['Birth Year'] = df['Birth Year'].astype('int')\n",
    "print(df['Birth Year'].dtype)\n",
    "print(df['Current Year'].dtype)\n",
    "\n",
    "\n"
   ]
  },
  {
   "cell_type": "code",
   "execution_count": 119,
   "id": "839f383d",
   "metadata": {},
   "outputs": [
    {
     "name": "stdout",
     "output_type": "stream",
     "text": [
      "       Name  Country       City  Weight  Height        BMI  Birth Year  \\\n",
      "0  Asabeneh  Finland   Helsinki      74    1.73  24.725183        1769   \n",
      "1     David       UK     London      78    1.75  25.469388        1985   \n",
      "2      John   Sweden  Stockholm      69    1.69  24.158818        1990   \n",
      "\n",
      "   Current Year  Ages  \n",
      "0          2020   251  \n",
      "1          2020    35  \n",
      "2          2020    30  \n"
     ]
    }
   ],
   "source": [
    "ages = df['Current Year'] - df['Birth Year']\n",
    "df['Ages'] = ages\n",
    "print(df)"
   ]
  },
  {
   "cell_type": "code",
   "execution_count": 120,
   "id": "9f5c27bb",
   "metadata": {},
   "outputs": [
    {
     "name": "stdout",
     "output_type": "stream",
     "text": [
      "Mean:  32.5\n"
     ]
    }
   ],
   "source": [
    "mean = (35 + 30)/ 2\n",
    "print('Mean: ',mean)\n"
   ]
  },
  {
   "cell_type": "code",
   "execution_count": 121,
   "id": "ab1deae9",
   "metadata": {},
   "outputs": [
    {
     "name": "stdout",
     "output_type": "stream",
     "text": [
      "       Name  Country      City  Weight  Height        BMI  Birth Year  \\\n",
      "0  Asabeneh  Finland  Helsinki      74    1.73  24.725183        1769   \n",
      "\n",
      "   Current Year  Ages  \n",
      "0          2020   251  \n"
     ]
    }
   ],
   "source": [
    "print(df[df['Ages'] > 120])\n"
   ]
  },
  {
   "cell_type": "code",
   "execution_count": null,
   "id": "1a811457",
   "metadata": {},
   "outputs": [],
   "source": []
  }
 ],
 "metadata": {
  "kernelspec": {
   "display_name": "base",
   "language": "python",
   "name": "python3"
  },
  "language_info": {
   "codemirror_mode": {
    "name": "ipython",
    "version": 3
   },
   "file_extension": ".py",
   "mimetype": "text/x-python",
   "name": "python",
   "nbconvert_exporter": "python",
   "pygments_lexer": "ipython3",
   "version": "3.13.5"
  }
 },
 "nbformat": 4,
 "nbformat_minor": 5
}
